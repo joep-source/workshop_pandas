{
 "cells": [
  {
   "cell_type": "markdown",
   "source": [
    "# Assignment\r\n",
    "\r\n",
    "The purpose of the assignment is to acquire some hands on practise with pandas. You can compare your answers with the answers from the solution notebook.\r\n",
    "\r\n",
    "*Note:* Don't try to speedrun through all questions, try to understand the concepts."
   ],
   "metadata": {}
  },
  {
   "cell_type": "code",
   "execution_count": 1,
   "source": [
    "import pandas as pd\r\n",
    "import matplotlib.pyplot as plt\r\n",
    "%matplotlib inline\r\n",
    "\r\n",
    "star_type = {\r\n",
    "    \"Star type\": [0, 1, 2, 3, 4, 5],\r\n",
    "    \"Star names\": [\r\n",
    "        \"Red Dwarf\", \r\n",
    "        \"Brown Dwarf\", \r\n",
    "        \"White Dwarf\", \r\n",
    "        \"Main Sequence\",\r\n",
    "        \"SuperGiants\", \r\n",
    "        \"HyperGiants\",\r\n",
    "    ]\r\n",
    "}"
   ],
   "outputs": [],
   "metadata": {}
  },
  {
   "cell_type": "markdown",
   "source": [
    "## Exercise 1\r\n",
    "- Create a dataframe from dictionary `star_type`.  \r\n",
    "- The repository contains a file `star_dataset.csv`. Each row in this csv file represents a single star. Create a dataframe from `star_dataset.csv`. \r\n",
    "- Merge both dataframes on column `Star type` to create dataframe `df_stars`."
   ],
   "metadata": {}
  },
  {
   "cell_type": "code",
   "execution_count": null,
   "source": [],
   "outputs": [],
   "metadata": {}
  },
  {
   "cell_type": "markdown",
   "source": [
    "## Excercise 2\r\n",
    "Get the minimum and maximum temperature of `df_stars`."
   ],
   "metadata": {}
  },
  {
   "cell_type": "code",
   "execution_count": null,
   "source": [],
   "outputs": [],
   "metadata": {}
  },
  {
   "cell_type": "markdown",
   "source": [
    "## Excercise 3\r\n",
    "Count the number of stars (rows) per star name."
   ],
   "metadata": {}
  },
  {
   "cell_type": "code",
   "execution_count": null,
   "source": [],
   "outputs": [],
   "metadata": {}
  },
  {
   "cell_type": "markdown",
   "source": [
    "## Excercise 4\r\n",
    "Plot a histogram of the luminosity in `df_stars`. "
   ],
   "metadata": {}
  },
  {
   "cell_type": "code",
   "execution_count": null,
   "source": [
    "\r\n"
   ],
   "outputs": [],
   "metadata": {}
  },
  {
   "cell_type": "markdown",
   "source": [
    "## Excercise 5\r\n",
    "Count the stars with name `White Dwarf` and a radius bigger than `0.012`."
   ],
   "metadata": {}
  },
  {
   "cell_type": "code",
   "execution_count": null,
   "source": [],
   "outputs": [],
   "metadata": {}
  },
  {
   "cell_type": "markdown",
   "source": [
    "## Excercise 6\r\n",
    "- Print a list of unique star colors. \r\n",
    "- Clean the colors column by fixing the lowercase/highercase, whitespace/dash and trailing whitespace naming problems. \r\n",
    "- Print the new list of unique star colors. "
   ],
   "metadata": {}
  },
  {
   "cell_type": "code",
   "execution_count": null,
   "source": [],
   "outputs": [],
   "metadata": {}
  },
  {
   "cell_type": "markdown",
   "source": [
    "## Excercise 7\r\n",
    "Print the star name or names (**!**) that occur most often per star color."
   ],
   "metadata": {}
  },
  {
   "cell_type": "code",
   "execution_count": null,
   "source": [],
   "outputs": [],
   "metadata": {}
  }
 ],
 "metadata": {
  "orig_nbformat": 4,
  "language_info": {
   "name": "python",
   "version": "3.8.0",
   "mimetype": "text/x-python",
   "codemirror_mode": {
    "name": "ipython",
    "version": 3
   },
   "pygments_lexer": "ipython3",
   "nbconvert_exporter": "python",
   "file_extension": ".py"
  },
  "kernelspec": {
   "name": "python3",
   "display_name": "Python 3.8.0 64-bit"
  },
  "interpreter": {
   "hash": "9ce43836c8d3287a06e199a1efd6974587c1d8c7cdf961feda0708cd09e2869c"
  }
 },
 "nbformat": 4,
 "nbformat_minor": 2
}