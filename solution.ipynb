{
 "cells": [
  {
   "cell_type": "markdown",
   "source": [
    "# Solution for assignment\r\n",
    "\r\n",
    "For most exercises are multiple solutions possible. This notebook contains one solution per exercise."
   ],
   "metadata": {}
  },
  {
   "cell_type": "code",
   "execution_count": 1,
   "source": [
    "import pandas as pd\r\n",
    "import matplotlib.pyplot as plt\r\n",
    "%matplotlib inline\r\n",
    "\r\n",
    "star_type = {\r\n",
    "    \"Star type\": [0, 1, 2, 3, 4, 5],\r\n",
    "    \"Star names\": [\r\n",
    "        \"Red Dwarf\", \r\n",
    "        \"Brown Dwarf\", \r\n",
    "        \"White Dwarf\", \r\n",
    "        \"Main Sequence\",\r\n",
    "        \"SuperGiants\", \r\n",
    "        \"HyperGiants\",\r\n",
    "    ]\r\n",
    "}"
   ],
   "outputs": [],
   "metadata": {}
  },
  {
   "cell_type": "markdown",
   "source": [
    "## Exercise 1\r\n",
    "- Create a dataframe from dictionary `star_type`.  \r\n",
    "- The repository contains a file `star_dataset.csv`. Each row in this csv file represents a single star. Create a dataframe from `star_dataset.csv`. \r\n",
    "- Merge both dataframes on column `Star type` to create dataframe `df_stars`."
   ],
   "metadata": {}
  },
  {
   "cell_type": "code",
   "execution_count": 2,
   "source": [
    "# Create dataframes\r\n",
    "df_star_type = pd.DataFrame(star_type)\r\n",
    "df_dataset = pd.read_csv('star_dataset.csv')\r\n",
    "\r\n",
    "# Merge dataframes\r\n",
    "df_stars = pd.merge(df_star_type, df_dataset, how='outer', on='Star type')\r\n",
    "df_stars"
   ],
   "outputs": [
    {
     "output_type": "execute_result",
     "data": {
      "text/html": [
       "<div>\n",
       "<style scoped>\n",
       "    .dataframe tbody tr th:only-of-type {\n",
       "        vertical-align: middle;\n",
       "    }\n",
       "\n",
       "    .dataframe tbody tr th {\n",
       "        vertical-align: top;\n",
       "    }\n",
       "\n",
       "    .dataframe thead th {\n",
       "        text-align: right;\n",
       "    }\n",
       "</style>\n",
       "<table border=\"1\" class=\"dataframe\">\n",
       "  <thead>\n",
       "    <tr style=\"text-align: right;\">\n",
       "      <th></th>\n",
       "      <th>Star type</th>\n",
       "      <th>Star names</th>\n",
       "      <th>Temperature (K)</th>\n",
       "      <th>Luminosity(L/Lo)</th>\n",
       "      <th>Radius(R/Ro)</th>\n",
       "      <th>Absolute magnitude(Mv)</th>\n",
       "      <th>Star color</th>\n",
       "      <th>Spectral Class</th>\n",
       "    </tr>\n",
       "  </thead>\n",
       "  <tbody>\n",
       "    <tr>\n",
       "      <th>0</th>\n",
       "      <td>0</td>\n",
       "      <td>Red Dwarf</td>\n",
       "      <td>3068</td>\n",
       "      <td>0.002400</td>\n",
       "      <td>0.1700</td>\n",
       "      <td>16.12</td>\n",
       "      <td>Red</td>\n",
       "      <td>M</td>\n",
       "    </tr>\n",
       "    <tr>\n",
       "      <th>1</th>\n",
       "      <td>0</td>\n",
       "      <td>Red Dwarf</td>\n",
       "      <td>3042</td>\n",
       "      <td>0.000500</td>\n",
       "      <td>0.1542</td>\n",
       "      <td>16.60</td>\n",
       "      <td>Red</td>\n",
       "      <td>M</td>\n",
       "    </tr>\n",
       "    <tr>\n",
       "      <th>2</th>\n",
       "      <td>0</td>\n",
       "      <td>Red Dwarf</td>\n",
       "      <td>2600</td>\n",
       "      <td>0.000300</td>\n",
       "      <td>0.1020</td>\n",
       "      <td>18.70</td>\n",
       "      <td>Red</td>\n",
       "      <td>M</td>\n",
       "    </tr>\n",
       "    <tr>\n",
       "      <th>3</th>\n",
       "      <td>0</td>\n",
       "      <td>Red Dwarf</td>\n",
       "      <td>2800</td>\n",
       "      <td>0.000200</td>\n",
       "      <td>0.1600</td>\n",
       "      <td>16.65</td>\n",
       "      <td>Red</td>\n",
       "      <td>M</td>\n",
       "    </tr>\n",
       "    <tr>\n",
       "      <th>4</th>\n",
       "      <td>0</td>\n",
       "      <td>Red Dwarf</td>\n",
       "      <td>1939</td>\n",
       "      <td>0.000138</td>\n",
       "      <td>0.1030</td>\n",
       "      <td>20.06</td>\n",
       "      <td>Red</td>\n",
       "      <td>M</td>\n",
       "    </tr>\n",
       "    <tr>\n",
       "      <th>...</th>\n",
       "      <td>...</td>\n",
       "      <td>...</td>\n",
       "      <td>...</td>\n",
       "      <td>...</td>\n",
       "      <td>...</td>\n",
       "      <td>...</td>\n",
       "      <td>...</td>\n",
       "      <td>...</td>\n",
       "    </tr>\n",
       "    <tr>\n",
       "      <th>235</th>\n",
       "      <td>5</td>\n",
       "      <td>HyperGiants</td>\n",
       "      <td>38940</td>\n",
       "      <td>374830.000000</td>\n",
       "      <td>1356.0000</td>\n",
       "      <td>-9.93</td>\n",
       "      <td>Blue</td>\n",
       "      <td>O</td>\n",
       "    </tr>\n",
       "    <tr>\n",
       "      <th>236</th>\n",
       "      <td>5</td>\n",
       "      <td>HyperGiants</td>\n",
       "      <td>30839</td>\n",
       "      <td>834042.000000</td>\n",
       "      <td>1194.0000</td>\n",
       "      <td>-10.63</td>\n",
       "      <td>Blue</td>\n",
       "      <td>O</td>\n",
       "    </tr>\n",
       "    <tr>\n",
       "      <th>237</th>\n",
       "      <td>5</td>\n",
       "      <td>HyperGiants</td>\n",
       "      <td>8829</td>\n",
       "      <td>537493.000000</td>\n",
       "      <td>1423.0000</td>\n",
       "      <td>-10.73</td>\n",
       "      <td>White</td>\n",
       "      <td>A</td>\n",
       "    </tr>\n",
       "    <tr>\n",
       "      <th>238</th>\n",
       "      <td>5</td>\n",
       "      <td>HyperGiants</td>\n",
       "      <td>9235</td>\n",
       "      <td>404940.000000</td>\n",
       "      <td>1112.0000</td>\n",
       "      <td>-11.23</td>\n",
       "      <td>White</td>\n",
       "      <td>A</td>\n",
       "    </tr>\n",
       "    <tr>\n",
       "      <th>239</th>\n",
       "      <td>5</td>\n",
       "      <td>HyperGiants</td>\n",
       "      <td>37882</td>\n",
       "      <td>294903.000000</td>\n",
       "      <td>1783.0000</td>\n",
       "      <td>-7.80</td>\n",
       "      <td>Blue</td>\n",
       "      <td>O</td>\n",
       "    </tr>\n",
       "  </tbody>\n",
       "</table>\n",
       "<p>240 rows × 8 columns</p>\n",
       "</div>"
      ],
      "text/plain": [
       "     Star type   Star names  Temperature (K)  Luminosity(L/Lo)  Radius(R/Ro)  \\\n",
       "0            0    Red Dwarf             3068          0.002400        0.1700   \n",
       "1            0    Red Dwarf             3042          0.000500        0.1542   \n",
       "2            0    Red Dwarf             2600          0.000300        0.1020   \n",
       "3            0    Red Dwarf             2800          0.000200        0.1600   \n",
       "4            0    Red Dwarf             1939          0.000138        0.1030   \n",
       "..         ...          ...              ...               ...           ...   \n",
       "235          5  HyperGiants            38940     374830.000000     1356.0000   \n",
       "236          5  HyperGiants            30839     834042.000000     1194.0000   \n",
       "237          5  HyperGiants             8829     537493.000000     1423.0000   \n",
       "238          5  HyperGiants             9235     404940.000000     1112.0000   \n",
       "239          5  HyperGiants            37882     294903.000000     1783.0000   \n",
       "\n",
       "     Absolute magnitude(Mv) Star color Spectral Class  \n",
       "0                     16.12        Red              M  \n",
       "1                     16.60        Red              M  \n",
       "2                     18.70        Red              M  \n",
       "3                     16.65        Red              M  \n",
       "4                     20.06        Red              M  \n",
       "..                      ...        ...            ...  \n",
       "235                   -9.93       Blue              O  \n",
       "236                  -10.63       Blue              O  \n",
       "237                  -10.73      White              A  \n",
       "238                  -11.23      White              A  \n",
       "239                   -7.80       Blue              O  \n",
       "\n",
       "[240 rows x 8 columns]"
      ]
     },
     "metadata": {},
     "execution_count": 2
    }
   ],
   "metadata": {}
  },
  {
   "cell_type": "markdown",
   "source": [
    "## Excercise 2\r\n",
    "Get the minimum and maximum temperature of `df_stars`."
   ],
   "metadata": {}
  },
  {
   "cell_type": "code",
   "execution_count": 3,
   "source": [
    "print(\"min: \", df_stars['Temperature (K)'].min())\r\n",
    "print(\"max: \", df_stars['Temperature (K)'].max())"
   ],
   "outputs": [
    {
     "output_type": "stream",
     "name": "stdout",
     "text": [
      "min:  1939\n",
      "max:  40000\n"
     ]
    }
   ],
   "metadata": {}
  },
  {
   "cell_type": "markdown",
   "source": [
    "## Excercise 3\r\n",
    "Count the number of stars (rows) per star name."
   ],
   "metadata": {}
  },
  {
   "cell_type": "code",
   "execution_count": 4,
   "source": [
    "print(df_stars['Star names'].value_counts())"
   ],
   "outputs": [
    {
     "output_type": "stream",
     "name": "stdout",
     "text": [
      "HyperGiants      40\n",
      "Red Dwarf        40\n",
      "White Dwarf      40\n",
      "Main Sequence    40\n",
      "SuperGiants      40\n",
      "Brown Dwarf      40\n",
      "Name: Star names, dtype: int64\n"
     ]
    }
   ],
   "metadata": {}
  },
  {
   "cell_type": "markdown",
   "source": [
    "## Excercise 4\r\n",
    "Plot a histogram of the luminosity in `df_stars`. "
   ],
   "metadata": {}
  },
  {
   "cell_type": "code",
   "execution_count": 5,
   "source": [
    "plt.figure()\r\n",
    "df_stars['Luminosity(L/Lo)'].plot.hist()"
   ],
   "outputs": [
    {
     "output_type": "execute_result",
     "data": {
      "text/plain": [
       "<AxesSubplot:ylabel='Frequency'>"
      ]
     },
     "metadata": {},
     "execution_count": 5
    },
    {
     "output_type": "display_data",
     "data": {
      "image/png": "[encoded data removed]",
      "text/plain": [
       "<Figure size 432x288 with 1 Axes>"
      ]
     },
     "metadata": {
      "needs_background": "light"
     }
    }
   ],
   "metadata": {}
  },
  {
   "cell_type": "markdown",
   "source": [
    "## Excercise 5\r\n",
    "Count the stars with name `White Dwarf` and a radius bigger than `0.012`."
   ],
   "metadata": {}
  },
  {
   "cell_type": "code",
   "execution_count": 6,
   "source": [
    "df_selection = df_stars[(df_stars[\"Star names\"]==\"White Dwarf\") & (df_stars[\"Radius(R/Ro)\"]>0.012)]\r\n",
    "len(df_selection)"
   ],
   "outputs": [
    {
     "output_type": "execute_result",
     "data": {
      "text/plain": [
       "10"
      ]
     },
     "metadata": {},
     "execution_count": 6
    }
   ],
   "metadata": {}
  },
  {
   "cell_type": "markdown",
   "source": [
    "## Excercise 6\r\n",
    "- Print a list of unique star colors. \r\n",
    "- Clean the colors column by fixing the lowercase/highercase, whitespace/dash and trailing whitespace naming problems. \r\n",
    "- Print the new list of unique star colors. "
   ],
   "metadata": {}
  },
  {
   "cell_type": "code",
   "execution_count": 7,
   "source": [
    "df_stars_unique = df_stars['Star color'].unique()\r\n",
    "print(f\"Star colors unique ({len(df_stars_unique)}): {df_stars_unique}\")\r\n",
    "print()\r\n",
    "\r\n",
    "df_stars['Star color'] = df_stars['Star color'].str.lower()\r\n",
    "df_stars['Star color'] = df_stars['Star color'].str.rstrip()\r\n",
    "df_stars['Star color'] = df_stars['Star color'].str.replace(' ','-')\r\n",
    "\r\n",
    "df_stars_unique = df_stars['Star color'].unique()\r\n",
    "print(f\"Star colors clean ({len(df_stars_unique)}): {df_stars_unique}\")"
   ],
   "outputs": [
    {
     "output_type": "stream",
     "name": "stdout",
     "text": [
      "Star colors unique (19): ['Red' 'Blue White' 'White' 'Yellowish White' 'Blue white'\n",
      " 'Pale yellow orange' 'White-Yellow' 'white' 'Blue ' 'Blue' 'Blue white '\n",
      " 'Blue-white' 'Whitish' 'yellow-white' 'yellowish' 'Yellowish'\n",
      " 'Orange-Red' 'Blue-White' 'Orange']\n",
      "\n",
      "Star colors clean (12): ['red' 'blue-white' 'white' 'yellowish-white' 'pale-yellow-orange'\n",
      " 'white-yellow' 'blue' 'whitish' 'yellow-white' 'yellowish' 'orange-red'\n",
      " 'orange']\n"
     ]
    }
   ],
   "metadata": {}
  },
  {
   "cell_type": "markdown",
   "source": [
    "## Excercise 7\r\n",
    "Print the star name or names (**!**) that occur most often per star color."
   ],
   "metadata": {}
  },
  {
   "cell_type": "code",
   "execution_count": 8,
   "source": [
    "colors = df_stars['Star color'].unique()\r\n",
    "for color in colors:    \r\n",
    "    df_star_color = df_stars[df_stars['Star color']==color]\r\n",
    "    \r\n",
    "    serie_stars = df_star_color['Star names'].value_counts()    \r\n",
    "    serie_stars = serie_stars[serie_stars == serie_stars.max()]\r\n",
    "    \r\n",
    "    for count, star in zip(serie_stars, serie_stars.index):\r\n",
    "        print(f\"{color}:  {star} ({count}x)\")"
   ],
   "outputs": [
    {
     "output_type": "stream",
     "name": "stdout",
     "text": [
      "red:  Red Dwarf (40x)\n",
      "red:  Brown Dwarf (40x)\n",
      "blue-white:  Main Sequence (21x)\n",
      "white:  White Dwarf (8x)\n",
      "yellowish-white:  White Dwarf (3x)\n",
      "pale-yellow-orange:  White Dwarf (1x)\n",
      "white-yellow:  White Dwarf (1x)\n",
      "blue:  SuperGiants (31x)\n",
      "whitish:  Main Sequence (2x)\n",
      "yellow-white:  Main Sequence (8x)\n",
      "yellowish:  Main Sequence (3x)\n",
      "orange-red:  Main Sequence (1x)\n",
      "orange:  HyperGiants (2x)\n"
     ]
    }
   ],
   "metadata": {}
  }
 ],
 "metadata": {
  "orig_nbformat": 4,
  "language_info": {
   "name": "python",
   "version": "3.8.0",
   "mimetype": "text/x-python",
   "codemirror_mode": {
    "name": "ipython",
    "version": 3
   },
   "pygments_lexer": "ipython3",
   "nbconvert_exporter": "python",
   "file_extension": ".py"
  },
  "kernelspec": {
   "name": "python3",
   "display_name": "Python 3.8.0 64-bit"
  },
  "interpreter": {
   "hash": "9ce43836c8d3287a06e199a1efd6974587c1d8c7cdf961feda0708cd09e2869c"
  }
 },
 "nbformat": 4,
 "nbformat_minor": 2
}